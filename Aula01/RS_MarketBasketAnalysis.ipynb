{
 "cells": [
  {
   "cell_type": "markdown",
   "metadata": {
    "application/vnd.databricks.v1+cell": {
     "cellMetadata": {},
     "inputWidgets": {},
     "nuid": "9165f6fe-c0a0-4fc7-b73d-98e865e7f527",
     "showTitle": false,
     "title": ""
    }
   },
   "source": [
    "# Market Basket Analysis using Instacart Online Grocery Dataset"
   ]
  },
  {
   "cell_type": "markdown",
   "metadata": {},
   "source": [
    "## Which products will an Instacart consumer purchase again?\n",
    "\n",
    "To showcase the concept of market basket analysis with the [Databricks Unified Analytics Platform](https://databricks.com/product/unified-analytics-platform), we will use the Instacart's [3 Million Instacart Orders, Open Sourced](https://www.instacart.com/datasets/grocery-shopping-2017) dataset.\n",
    "\n",
    "> “The Instacart Online Grocery Shopping Dataset 2017”, Accessed from https://www.instacart.com/datasets/grocery-shopping-2017 on 01/17/2018. This anonymized dataset contains a sample of over 3 million grocery orders from more than 200,000 Instacart users.\n",
    "For each user, we provide between 4 and 100 of their orders, with the sequence of products purchased in each order. We also provide the week and hour of day the order was placed, and a relative measure of time between orders.\n",
    "\n",
    "Whether you shop from meticulously planned grocery lists or let whimsy guide your grazing, our unique food rituals define who we are. Instacart's grocery ordering and delivery app aims to make it easy to fill your refrigerator and pantry with your personal favorites and staples when you need them. After selecting products through the Instacart app, personal shoppers review your order and do the in-store shopping and delivery for you.\n",
    "\n",
    "\n",
    "This notebook will show how you can predict which items a shopper will purchase whether they buy it again or recommend to try for the first time.\n",
    "<img src=\"https://s3.us-east-2.amazonaws.com/databricks-dennylee/media/buy+it+again+or+recommend.png\" width=\"1100\"/>\n",
    "\n",
    "\n",
    "*Source: [3 Million Instacart Orders, Open Sourced](https://tech.instacart.com/3-million-instacart-orders-open-sourced-d40d29ead6f2)*"
   ]
  },
  {
   "cell_type": "markdown",
   "metadata": {
    "application/vnd.databricks.v1+cell": {
     "cellMetadata": {},
     "inputWidgets": {},
     "nuid": "cd1bcb7e-6b17-4f0b-9237-3b5f27bf3a5c",
     "showTitle": true,
     "title": "Data Engineering Pipeline"
    }
   },
   "source": [
    "![](https://s3.us-east-2.amazonaws.com/databricks-dennylee/media/data-engineering-pipeline-3.png)\n",
    "\n",
    "Data engineering pipelines are commonly comprised of these components:\n",
    "\n",
    "* **Ingest Data**: Bringing in the data from your source systems; often involving ETL processes (though we will skip this step in this demo for brevity)\n",
    "* **Explore Data**: Now that you have cleansed data, explore it so you can get some business insight\n",
    "* **Train ML Model**: Execute FP-growth for frequent pattern mining\n",
    "* **Review Association Rules**: Review the generated association rules"
   ]
  },
  {
   "cell_type": "markdown",
   "metadata": {
    "application/vnd.databricks.v1+cell": {
     "cellMetadata": {},
     "inputWidgets": {},
     "nuid": "60b786de-833c-471a-9a86-11da8b9cacba",
     "showTitle": false,
     "title": ""
    }
   },
   "source": [
    "# Ingest Data"
   ]
  },
  {
   "cell_type": "markdown",
   "metadata": {
    "application/vnd.databricks.v1+cell": {
     "cellMetadata": {},
     "inputWidgets": {},
     "nuid": "9c811045-ec77-489b-8c39-b81abc37d9bb",
     "showTitle": false,
     "title": "Ingest Data"
    }
   },
   "source": [
    "First, download the [3 Million Instacart Orders, Open Sourced](https://www.instacart.com/datasets/grocery-shopping-2017) and upload it to `dbfs`; for more information, refer to [Importing Data](https://docs.databricks.com/user-guide/importing-data.html).\n",
    "\n",
    "The following `dbutils filesystem (fs)` query displays the six files:\n",
    "* `Orders`: 3.4M rows, 206K users\n",
    "* `Products`: 50K rows\n",
    "* `Aisles`: 134 rows \n",
    "* `Departments`: 21 rows\n",
    "* `order_products__SET`: 30M+ rows where `SET` is defined as:\n",
    "  * `prior`: 3.2M previous orders\n",
    "  * `train`: 131K orders for your training dataset\n",
    "  \n",
    "Reference: [The Instacart Online Grocery Shopping Dataset 2017 Data Descriptions](https://gist.github.com/jeremystan/c3b39d947d9b88b3ccff3147dbcf6c6b)\n",
    "\n",
    "### Important\n",
    "You will need to **edit** the locations (in the examples below, we're using `/mnt/bhavin/mba/instacard/csv`) to where you had uploaded your data."
   ]
  },
  {
   "cell_type": "markdown",
   "metadata": {},
   "source": [
    "# Importando as libs necessárias"
   ]
  },
  {
   "cell_type": "code",
   "execution_count": 1,
   "metadata": {},
   "outputs": [],
   "source": [
    "import numpy as np\n",
    "import pandas as pd\n",
    "import findspark\n",
    "findspark.init()\n",
    "from pyspark.sql import SparkSession"
   ]
  },
  {
   "cell_type": "code",
   "execution_count": 2,
   "metadata": {},
   "outputs": [],
   "source": [
    "# Inicializa uma SparkSession\n",
    "spark = SparkSession.builder \\\n",
    "    .appName(\"Aula1\") \\\n",
    "    .getOrCreate()"
   ]
  },
  {
   "cell_type": "markdown",
   "metadata": {
    "application/vnd.databricks.v1+cell": {
     "cellMetadata": {},
     "inputWidgets": {},
     "nuid": "c9bda2df-82f1-484e-8985-9ea3ce837692",
     "showTitle": true,
     "title": ""
    }
   },
   "source": [
    "# Subir os arquivos no cluster com a opção create table"
   ]
  },
  {
   "cell_type": "code",
   "execution_count": 4,
   "metadata": {
    "application/vnd.databricks.v1+cell": {
     "cellMetadata": {
      "byteLimit": 2048000,
      "rowLimit": 10000
     },
     "inputWidgets": {},
     "nuid": "793ffd0e-fc4f-46b2-b8e7-8a740f2eb25c",
     "showTitle": true,
     "title": "Create DataFrames"
    }
   },
   "outputs": [],
   "source": [
    "# Import Data\n",
    "aisles = spark.read.csv(\"../Aula1/Datasets/aisles.csv\", header=True, inferSchema=True)\n",
    "departments = spark.read.csv(\"../Aula1/Datasets/departments.csv\", header=True, inferSchema=True)\n",
    "order_products_prior = spark.read.csv(\"../Aula1/Datasets/order_products__prior.csv\", header=True, inferSchema=True)\n",
    "order_products_train = spark.read.csv(\"../Aula1/Datasets/order_products__train.csv\", header=True, inferSchema=True)\n",
    "orders = spark.read.csv(\"../Aula1/Datasets/orders.csv\", header=True, inferSchema=True)\n",
    "products = spark.read.csv(\"../Aula1/Datasets/products.csv\", header=True, inferSchema=True)\n",
    "\n",
    "# Create Temporary Tables\n",
    "aisles.createOrReplaceTempView(\"aisles\")\n",
    "departments.createOrReplaceTempView(\"departments\")\n",
    "order_products_prior.createOrReplaceTempView(\"order_products_prior\")\n",
    "order_products_train.createOrReplaceTempView(\"order_products_train\")\n",
    "orders.createOrReplaceTempView(\"orders\")\n",
    "products.createOrReplaceTempView(\"products\")"
   ]
  },
  {
   "cell_type": "code",
   "execution_count": 5,
   "metadata": {
    "application/vnd.databricks.v1+cell": {
     "cellMetadata": {
      "byteLimit": 2048000,
      "rowLimit": 10000
     },
     "inputWidgets": {},
     "nuid": "83cdf0ea-043a-4af4-b323-9b8a640cdd5d",
     "showTitle": false,
     "title": ""
    }
   },
   "outputs": [],
   "source": [
    "aisles.createOrReplaceTempView(\"aisles\")\n",
    "departments.createOrReplaceTempView(\"departments\")\n",
    "order_products_prior.createOrReplaceTempView(\"order_products_prior\")\n",
    "order_products_train.createOrReplaceTempView(\"order_products_train\")\n",
    "orders.createOrReplaceTempView(\"orders\")\n",
    "products.createOrReplaceTempView(\"products\")"
   ]
  },
  {
   "cell_type": "markdown",
   "metadata": {
    "application/vnd.databricks.v1+cell": {
     "cellMetadata": {},
     "inputWidgets": {},
     "nuid": "1187a4b0-b483-4034-beb1-d1756bd63ed4",
     "showTitle": false,
     "title": ""
    }
   },
   "source": [
    "# Exploratory Data Analysis\n",
    "\n",
    "Explore your Instacart data using Spark SQL"
   ]
  },
  {
   "cell_type": "code",
   "execution_count": 6,
   "metadata": {
    "application/vnd.databricks.v1+cell": {
     "cellMetadata": {
      "byteLimit": 2048000,
      "implicitDf": true,
      "rowLimit": 10000
     },
     "inputWidgets": {},
     "nuid": "f4994ad2-f48c-4854-b9e4-36ded9558ef1",
     "showTitle": true,
     "title": "Busiest day of the week"
    }
   },
   "outputs": [
    {
     "name": "stdout",
     "output_type": "stream",
     "text": [
      "+------------+-----------+\n",
      "|total_orders|day_of_week|\n",
      "+------------+-----------+\n",
      "|      600905|     Sunday|\n",
      "|      587478|     Monday|\n",
      "|      467260|    Tuesday|\n",
      "|      453368|     Friday|\n",
      "|      448761|   Saturday|\n",
      "|      436972|  Wednesday|\n",
      "|      426339|   Thursday|\n",
      "+------------+-----------+\n",
      "\n"
     ]
    }
   ],
   "source": [
    "query = \"\"\"\n",
    "select \n",
    "  count(order_id) as total_orders, \n",
    "  (case \n",
    "     when order_dow = '0' then 'Sunday'\n",
    "     when order_dow = '1' then 'Monday'\n",
    "     when order_dow = '2' then 'Tuesday'\n",
    "     when order_dow = '3' then 'Wednesday'\n",
    "     when order_dow = '4' then 'Thursday'\n",
    "     when order_dow = '5' then 'Friday'\n",
    "     when order_dow = '6' then 'Saturday'              \n",
    "  end) as day_of_week \n",
    "from orders  \n",
    "group by order_dow \n",
    "order by total_orders desc\n",
    "\"\"\"\n",
    "\n",
    "result_dayweek = spark.sql(query)\n",
    "result_dayweek.show()"
   ]
  },
  {
   "cell_type": "code",
   "execution_count": 29,
   "metadata": {
    "application/vnd.databricks.v1+cell": {
     "cellMetadata": {
      "byteLimit": 2048000,
      "implicitDf": true,
      "rowLimit": 10000
     },
     "inputWidgets": {},
     "nuid": "374ba455-a4af-4b4e-9d7e-1a71776d9541",
     "showTitle": true,
     "title": "Breakdown of Orders by Hour of the Day"
    }
   },
   "outputs": [
    {
     "name": "stdout",
     "output_type": "stream",
     "text": [
      "+------------+----+\n",
      "|total_orders|hour|\n",
      "+------------+----+\n",
      "|       22758|   0|\n",
      "|       12398|   1|\n",
      "|        7539|   2|\n",
      "|        5474|   3|\n",
      "|        5527|   4|\n",
      "|        9569|   5|\n",
      "|       30529|   6|\n",
      "|       91868|   7|\n",
      "|      178201|   8|\n",
      "|      257812|   9|\n",
      "|      288418|  10|\n",
      "|      284728|  11|\n",
      "|      272841|  12|\n",
      "|      277999|  13|\n",
      "|      283042|  14|\n",
      "|      283639|  15|\n",
      "|      272553|  16|\n",
      "|      228795|  17|\n",
      "|      182912|  18|\n",
      "|      140569|  19|\n",
      "+------------+----+\n",
      "only showing top 20 rows\n",
      "\n"
     ]
    }
   ],
   "source": [
    "query = \"\"\"\n",
    "select \n",
    "  count(order_id) as total_orders, \n",
    "  order_hour_of_day as hour \n",
    "  from orders \n",
    " group by order_hour_of_day \n",
    " order by order_hour_of_day\n",
    " \"\"\"\n",
    "\n",
    "result_hour = spark.sql(query)\n",
    "result_hour.show()"
   ]
  },
  {
   "cell_type": "code",
   "execution_count": 7,
   "metadata": {
    "application/vnd.databricks.v1+cell": {
     "cellMetadata": {
      "byteLimit": 2048000,
      "implicitDf": true,
      "rowLimit": 10000
     },
     "inputWidgets": {},
     "nuid": "82a21cf0-c263-4f3b-8647-7c9ed63b35e7",
     "showTitle": true,
     "title": "Max Products by Department"
    }
   },
   "outputs": [
    {
     "name": "stdout",
     "output_type": "stream",
     "text": [
      "+-------------+---------------+--------+\n",
      "|department_id|     department|products|\n",
      "+-------------+---------------+--------+\n",
      "|           16|     dairy eggs|    3449|\n",
      "|           14|      breakfast|    1115|\n",
      "|            3|         bakery|    1516|\n",
      "|           21|        missing|    1258|\n",
      "|            6|  international|    1139|\n",
      "|            1|         frozen|    4007|\n",
      "|           11|  personal care|    6563|\n",
      "|            9|dry goods pasta|    1858|\n",
      "|           13|         pantry|    5371|\n",
      "|           19|         snacks|    6264|\n",
      "|           20|           deli|    1322|\n",
      "|            7|      beverages|    4365|\n",
      "|            4|        produce|    1684|\n",
      "|           15|   canned goods|    2092|\n",
      "|           12|   meat seafood|     907|\n",
      "|           18|         babies|    1081|\n",
      "|            2|          other|     548|\n",
      "|            8|           pets|     972|\n",
      "|            5|        alcohol|    1054|\n",
      "|           10|           bulk|      38|\n",
      "+-------------+---------------+--------+\n",
      "only showing top 20 rows\n",
      "\n"
     ]
    }
   ],
   "source": [
    "query = \"\"\"\n",
    "select countbydept.*\n",
    "  from (\n",
    "  -- from product table, let's count number of records per dept\n",
    "  -- and then sort it by count (highest to lowest) \n",
    "  select department_id, count(1) as counter\n",
    "    from products\n",
    "   group by department_id\n",
    "   order by counter asc \n",
    "  ) as maxcount\n",
    "inner join (\n",
    "  -- let's repeat the exercise, but this time let's join\n",
    "  -- products and departments tables to get a full list of dept and \n",
    "  -- prod count\n",
    "  select\n",
    "    d.department_id,\n",
    "    d.department,\n",
    "    count(1) as products\n",
    "    from departments d\n",
    "      inner join products p\n",
    "         on p.department_id = d.department_id\n",
    "   group by d.department_id, d.department \n",
    "   order by products desc\n",
    "  ) countbydept \n",
    "  -- combine the two queries's results by matching the product count\n",
    "  on countbydept.products = maxcount.counter\n",
    "\"\"\"\n",
    "\n",
    "result_department_products = spark.sql(query)\n",
    "result_department_products.show()"
   ]
  },
  {
   "cell_type": "code",
   "execution_count": 8,
   "metadata": {
    "application/vnd.databricks.v1+cell": {
     "cellMetadata": {
      "byteLimit": 2048000,
      "implicitDf": true,
      "rowLimit": 10000
     },
     "inputWidgets": {},
     "nuid": "4858bf84-d014-44eb-b36e-a81ae3ae2212",
     "showTitle": true,
     "title": "Top 10 Popular Items"
    }
   },
   "outputs": [
    {
     "name": "stdout",
     "output_type": "stream",
     "text": [
      "+------+--------------------+\n",
      "|orders|     popular_product|\n",
      "+------+--------------------+\n",
      "|472565|              Banana|\n",
      "|379450|Bag of Organic Ba...|\n",
      "|264683|Organic Strawberries|\n",
      "|241921|Organic Baby Spinach|\n",
      "|213584|Organic Hass Avocado|\n",
      "|176815|     Organic Avocado|\n",
      "|152657|         Large Lemon|\n",
      "|142951|        Strawberries|\n",
      "|140627|               Limes|\n",
      "|137905|  Organic Whole Milk|\n",
      "+------+--------------------+\n",
      "\n"
     ]
    }
   ],
   "source": [
    "query = \"\"\"\n",
    "select \n",
    "  count(opp.order_id) as orders, \n",
    "  p.product_name as popular_product\n",
    "from order_products_prior opp, products p\n",
    "where p.product_id = opp.product_id \n",
    "group by popular_product \n",
    "order by orders desc \n",
    "limit 10\n",
    "\"\"\"\n",
    "\n",
    "result_popular_products = spark.sql(query)\n",
    "result_popular_products.show()"
   ]
  },
  {
   "cell_type": "code",
   "execution_count": 9,
   "metadata": {
    "application/vnd.databricks.v1+cell": {
     "cellMetadata": {
      "byteLimit": 2048000,
      "implicitDf": true,
      "rowLimit": 10000
     },
     "inputWidgets": {},
     "nuid": "8a40e910-f9bb-4bfd-8975-6167abea60e6",
     "showTitle": true,
     "title": "Shelf Space by Department"
    }
   },
   "outputs": [
    {
     "name": "stdout",
     "output_type": "stream",
     "text": [
      "+---------------+--------+\n",
      "|     department|products|\n",
      "+---------------+--------+\n",
      "|  personal care|    6563|\n",
      "|         snacks|    6264|\n",
      "|         pantry|    5371|\n",
      "|      beverages|    4365|\n",
      "|         frozen|    4007|\n",
      "|     dairy eggs|    3449|\n",
      "|      household|    3084|\n",
      "|   canned goods|    2092|\n",
      "|dry goods pasta|    1858|\n",
      "|        produce|    1684|\n",
      "+---------------+--------+\n",
      "\n"
     ]
    }
   ],
   "source": [
    "query = \"\"\"\n",
    "select\n",
    "  d.department,\n",
    "  count(distinct p.product_id) as products\n",
    "\n",
    "from products p\n",
    "inner join departments d\n",
    "on \n",
    "d.department_id = p.department_id\n",
    "\n",
    "group by d.department\n",
    "order by products desc\n",
    "limit 10\n",
    "\"\"\"\n",
    "\n",
    "result_products = spark.sql(query)\n",
    "result_products.show()"
   ]
  },
  {
   "cell_type": "markdown",
   "metadata": {
    "application/vnd.databricks.v1+cell": {
     "cellMetadata": {},
     "inputWidgets": {},
     "nuid": "854d7334-ee0d-44f3-ba04-4d7b13e44772",
     "showTitle": false,
     "title": ""
    }
   },
   "source": [
    "## Organize and View Shopping Basket"
   ]
  },
  {
   "cell_type": "code",
   "execution_count": 10,
   "metadata": {
    "application/vnd.databricks.v1+cell": {
     "cellMetadata": {
      "byteLimit": 2048000,
      "rowLimit": 10000
     },
     "inputWidgets": {},
     "nuid": "66bcb7b2-86b9-44ad-8671-97c547cebfeb",
     "showTitle": true,
     "title": "Organize Shopping Basket"
    }
   },
   "outputs": [],
   "source": [
    "# Organize the data by shopping basket\n",
    "from pyspark.sql.functions import collect_set, col, count\n",
    "rawData = spark.sql(\"select p.product_name, o.order_id from products p inner join order_products_train o where o.product_id = p.product_id\")\n",
    "baskets = rawData.groupBy('order_id').agg(collect_set('product_name').alias('items'))\n",
    "baskets.createOrReplaceTempView('baskets')"
   ]
  },
  {
   "cell_type": "code",
   "execution_count": 11,
   "metadata": {
    "application/vnd.databricks.v1+cell": {
     "cellMetadata": {
      "byteLimit": 2048000,
      "rowLimit": 10000
     },
     "inputWidgets": {},
     "nuid": "52c02383-eac2-4c95-804a-ee96a4ab04bc",
     "showTitle": true,
     "title": "View Shopping Basket"
    }
   },
   "outputs": [
    {
     "name": "stdout",
     "output_type": "stream",
     "text": [
      "+--------+--------------------+\n",
      "|order_id|               items|\n",
      "+--------+--------------------+\n",
      "|    1139|[Cinnamon Rolls w...|\n",
      "|    1143|[Water, Natural P...|\n",
      "|    1342|[Raw Shrimp, Seed...|\n",
      "|    1591|[Cracked Wheat, S...|\n",
      "|    1721|[Organic Thompson...|\n",
      "|    2711|[Granny Smith App...|\n",
      "|    3179|[Caramel Almond a...|\n",
      "|    4092|[Organic Baby Spi...|\n",
      "|    4383|[Organic Orange S...|\n",
      "|    4519|[Beet Apple Carro...|\n",
      "|    4935|             [Vodka]|\n",
      "|    5117|[Major Dickason's...|\n",
      "|    5433|[Dairy Free Unswe...|\n",
      "|    6357|[Globe Eggplant, ...|\n",
      "|    6552|[Plain Almond Mil...|\n",
      "|    6773|[Unrefined Virgin...|\n",
      "|    7168|[Dry Rubbed Thick...|\n",
      "|    8231|[100% Liquid Egg ...|\n",
      "|    8932|[100% Lactose Fre...|\n",
      "|    9206|[Organic Large Gr...|\n",
      "+--------+--------------------+\n",
      "only showing top 20 rows\n",
      "\n"
     ]
    }
   ],
   "source": [
    "baskets.show()"
   ]
  },
  {
   "cell_type": "markdown",
   "metadata": {
    "application/vnd.databricks.v1+cell": {
     "cellMetadata": {},
     "inputWidgets": {},
     "nuid": "8c52f50f-10c8-4fcb-ad78-a4f521782214",
     "showTitle": false,
     "title": ""
    }
   },
   "source": [
    "# Train ML Model \n",
    "\n",
    "To understand the frequency of items are associated with each other (e.g. peanut butter and jelly), we will use association rule mining for market basket analysis.  [Spark MLlib](http://spark.apache.org/docs/latest/mllib-guide.html) implements two algorithms related to frequency pattern mining (FPM): [FP-growth](https://spark.apache.org/docs/latest/mllib-frequent-pattern-mining.html#fp-growth) and [PrefixSpan](https://spark.apache.org/docs/latest/mllib-frequent-pattern-mining.html#prefixspan). The distinction is that FP-growth does not use order information in the itemsets, if any, while PrefixSpan is designed for sequential pattern mining where the itemsets are ordered. We will use FP-growth as the order information is not important for this use case.\n",
    "\n",
    "> Note, we will be using the `Scala API` so we can configure `setMinConfidence`."
   ]
  },
  {
   "cell_type": "code",
   "execution_count": null,
   "metadata": {
    "application/vnd.databricks.v1+cell": {
     "cellMetadata": {
      "byteLimit": 2048000,
      "rowLimit": 10000
     },
     "inputWidgets": {},
     "nuid": "a949c8dd-4690-4c22-a96f-ea92354906a9",
     "showTitle": true,
     "title": "Use FP-growth"
    }
   },
   "outputs": [
    {
     "data": {
      "text/html": [
       "<style scoped>\n",
       "  .ansiout {\n",
       "    display: block;\n",
       "    unicode-bidi: embed;\n",
       "    white-space: pre-wrap;\n",
       "    word-wrap: break-word;\n",
       "    word-break: break-all;\n",
       "    font-family: \"Menlo\", \"Monaco\", \"Consolas\", \"Ubuntu Mono\", \"Source Code Pro\", monospace;\n",
       "    font-size: 13px;\n",
       "    color: #555;\n",
       "    margin-left: 4px;\n",
       "    line-height: 19px;\n",
       "  }\n",
       "</style>\n",
       "<div class=\"ansiout\">import org.apache.spark.ml.fpm.FPGrowth\n",
       "baskets_ds: org.apache.spark.sql.DataFrame = [items: array&lt;string&gt;]\n",
       "fpgrowth: org.apache.spark.ml.fpm.FPGrowth = fpgrowth_9f544eac8d5b\n",
       "model: org.apache.spark.ml.fpm.FPGrowthModel = FPGrowthModel: uid=fpgrowth_9f544eac8d5b, numTrainingRecords=131209\n",
       "</div>"
      ]
     },
     "metadata": {
      "application/vnd.databricks.v1+output": {
       "addedWidgets": {},
       "arguments": {},
       "data": "<div class=\"ansiout\">import org.apache.spark.ml.fpm.FPGrowth\nbaskets_ds: org.apache.spark.sql.DataFrame = [items: array&lt;string&gt;]\nfpgrowth: org.apache.spark.ml.fpm.FPGrowth = fpgrowth_9f544eac8d5b\nmodel: org.apache.spark.ml.fpm.FPGrowthModel = FPGrowthModel: uid=fpgrowth_9f544eac8d5b, numTrainingRecords=131209\n</div>",
       "datasetInfos": [
        {
         "name": "baskets_ds",
         "schema": {
          "fields": [
           {
            "metadata": {},
            "name": "items",
            "nullable": false,
            "type": {
             "containsNull": false,
             "elementType": "string",
             "type": "array"
            }
           }
          ],
          "type": "struct"
         },
         "tableIdentifier": null,
         "typeStr": "org.apache.spark.sql.DataFrame"
        }
       ],
       "metadata": {
        "isDbfsCommandResult": false
       },
       "removedWidgets": [],
       "type": "html"
      }
     },
     "output_type": "display_data"
    }
   ],
   "source": [
    "%scala\n",
    "import org.apache.spark.ml.fpm.FPGrowth\n",
    "\n",
    "// Extract out the items \n",
    "val baskets_ds = spark.sql(\"select items from baskets\").as[Array[String]].toDF(\"items\")\n",
    "\n",
    "// Use FPGrowth\n",
    "val fpgrowth = new FPGrowth().setItemsCol(\"items\").setMinSupport(0.001).setMinConfidence(0)\n",
    "val model = fpgrowth.fit(baskets_ds)"
   ]
  },
  {
   "cell_type": "code",
   "execution_count": null,
   "metadata": {
    "application/vnd.databricks.v1+cell": {
     "cellMetadata": {
      "byteLimit": 2048000,
      "rowLimit": 10000
     },
     "inputWidgets": {},
     "nuid": "d02c899a-f297-4f51-91bb-b94181295a96",
     "showTitle": true,
     "title": "Most Frequent Itemsets"
    }
   },
   "outputs": [
    {
     "data": {
      "text/html": [
       "<style scoped>\n",
       "  .ansiout {\n",
       "    display: block;\n",
       "    unicode-bidi: embed;\n",
       "    white-space: pre-wrap;\n",
       "    word-wrap: break-word;\n",
       "    word-break: break-all;\n",
       "    font-family: \"Menlo\", \"Monaco\", \"Consolas\", \"Ubuntu Mono\", \"Source Code Pro\", monospace;\n",
       "    font-size: 13px;\n",
       "    color: #555;\n",
       "    margin-left: 4px;\n",
       "    line-height: 19px;\n",
       "  }\n",
       "</style>\n",
       "<div class=\"ansiout\">mostPopularItemInABasket: org.apache.spark.sql.DataFrame = [items: array&lt;string&gt;, freq: bigint]\n",
       "</div>"
      ]
     },
     "metadata": {
      "application/vnd.databricks.v1+output": {
       "addedWidgets": {},
       "arguments": {},
       "data": "<div class=\"ansiout\">mostPopularItemInABasket: org.apache.spark.sql.DataFrame = [items: array&lt;string&gt;, freq: bigint]\n</div>",
       "datasetInfos": [
        {
         "name": "mostPopularItemInABasket",
         "schema": {
          "fields": [
           {
            "metadata": {},
            "name": "items",
            "nullable": false,
            "type": {
             "containsNull": false,
             "elementType": "string",
             "type": "array"
            }
           },
           {
            "metadata": {},
            "name": "freq",
            "nullable": false,
            "type": "long"
           }
          ],
          "type": "struct"
         },
         "tableIdentifier": null,
         "typeStr": "org.apache.spark.sql.DataFrame"
        }
       ],
       "metadata": {
        "isDbfsCommandResult": false
       },
       "removedWidgets": [],
       "type": "html"
      }
     },
     "output_type": "display_data"
    }
   ],
   "source": [
    "%scala\n",
    "// Display frequent itemsets\n",
    "val mostPopularItemInABasket = model.freqItemsets\n",
    "mostPopularItemInABasket.createOrReplaceTempView(\"mostPopularItemInABasket\")"
   ]
  },
  {
   "cell_type": "code",
   "execution_count": null,
   "metadata": {
    "application/vnd.databricks.v1+cell": {
     "cellMetadata": {
      "byteLimit": 2048000,
      "implicitDf": true,
      "rowLimit": 10000
     },
     "inputWidgets": {},
     "nuid": "ae9f8b2f-308a-40e3-8104-476415bb66a8",
     "showTitle": false,
     "title": ""
    }
   },
   "outputs": [
    {
     "data": {
      "text/html": [
       "<style scoped>\n",
       "  .table-result-container {\n",
       "    max-height: 300px;\n",
       "    overflow: auto;\n",
       "  }\n",
       "  table, th, td {\n",
       "    border: 1px solid black;\n",
       "    border-collapse: collapse;\n",
       "  }\n",
       "  th, td {\n",
       "    padding: 5px;\n",
       "  }\n",
       "  th {\n",
       "    text-align: left;\n",
       "  }\n",
       "</style><div class='table-result-container'><table class='table-result'><thead style='background-color: white'><tr><th>items</th><th>freq</th></tr></thead><tbody><tr><td>List(Organic Hass Avocado, Organic Strawberries, Bag of Organic Bananas)</td><td>710</td></tr><tr><td>List(Organic Raspberries, Organic Strawberries, Bag of Organic Bananas)</td><td>649</td></tr><tr><td>List(Organic Baby Spinach, Organic Strawberries, Bag of Organic Bananas)</td><td>587</td></tr><tr><td>List(Organic Raspberries, Organic Hass Avocado, Bag of Organic Bananas)</td><td>531</td></tr><tr><td>List(Organic Hass Avocado, Organic Baby Spinach, Bag of Organic Bananas)</td><td>497</td></tr><tr><td>List(Organic Avocado, Organic Baby Spinach, Banana)</td><td>484</td></tr><tr><td>List(Organic Avocado, Large Lemon, Banana)</td><td>477</td></tr><tr><td>List(Limes, Large Lemon, Banana)</td><td>452</td></tr><tr><td>List(Organic Cucumber, Organic Strawberries, Bag of Organic Bananas)</td><td>424</td></tr><tr><td>List(Limes, Organic Avocado, Large Lemon)</td><td>389</td></tr><tr><td>List(Organic Raspberries, Organic Hass Avocado, Organic Strawberries)</td><td>381</td></tr><tr><td>List(Organic Avocado, Organic Strawberries, Banana)</td><td>379</td></tr><tr><td>List(Organic Baby Spinach, Organic Strawberries, Banana)</td><td>376</td></tr><tr><td>List(Organic Blueberries, Organic Strawberries, Bag of Organic Bananas)</td><td>374</td></tr><tr><td>List(Large Lemon, Organic Baby Spinach, Banana)</td><td>371</td></tr><tr><td>List(Organic Cucumber, Organic Hass Avocado, Bag of Organic Bananas)</td><td>366</td></tr><tr><td>List(Organic Lemon, Organic Hass Avocado, Bag of Organic Bananas)</td><td>353</td></tr><tr><td>List(Limes, Organic Avocado, Banana)</td><td>352</td></tr><tr><td>List(Organic Whole Milk, Organic Strawberries, Bag of Organic Bananas)</td><td>339</td></tr><tr><td>List(Organic Avocado, Large Lemon, Organic Baby Spinach)</td><td>334</td></tr></tbody></table></div>"
      ]
     },
     "metadata": {
      "application/vnd.databricks.v1+output": {
       "addedWidgets": {},
       "aggData": [],
       "aggError": "",
       "aggOverflow": false,
       "aggSchema": [],
       "aggSeriesLimitReached": false,
       "aggType": "",
       "arguments": {},
       "columnCustomDisplayInfos": {},
       "data": [
        [
         [
          "Organic Hass Avocado",
          "Organic Strawberries",
          "Bag of Organic Bananas"
         ],
         710
        ],
        [
         [
          "Organic Raspberries",
          "Organic Strawberries",
          "Bag of Organic Bananas"
         ],
         649
        ],
        [
         [
          "Organic Baby Spinach",
          "Organic Strawberries",
          "Bag of Organic Bananas"
         ],
         587
        ],
        [
         [
          "Organic Raspberries",
          "Organic Hass Avocado",
          "Bag of Organic Bananas"
         ],
         531
        ],
        [
         [
          "Organic Hass Avocado",
          "Organic Baby Spinach",
          "Bag of Organic Bananas"
         ],
         497
        ],
        [
         [
          "Organic Avocado",
          "Organic Baby Spinach",
          "Banana"
         ],
         484
        ],
        [
         [
          "Organic Avocado",
          "Large Lemon",
          "Banana"
         ],
         477
        ],
        [
         [
          "Limes",
          "Large Lemon",
          "Banana"
         ],
         452
        ],
        [
         [
          "Organic Cucumber",
          "Organic Strawberries",
          "Bag of Organic Bananas"
         ],
         424
        ],
        [
         [
          "Limes",
          "Organic Avocado",
          "Large Lemon"
         ],
         389
        ],
        [
         [
          "Organic Raspberries",
          "Organic Hass Avocado",
          "Organic Strawberries"
         ],
         381
        ],
        [
         [
          "Organic Avocado",
          "Organic Strawberries",
          "Banana"
         ],
         379
        ],
        [
         [
          "Organic Baby Spinach",
          "Organic Strawberries",
          "Banana"
         ],
         376
        ],
        [
         [
          "Organic Blueberries",
          "Organic Strawberries",
          "Bag of Organic Bananas"
         ],
         374
        ],
        [
         [
          "Large Lemon",
          "Organic Baby Spinach",
          "Banana"
         ],
         371
        ],
        [
         [
          "Organic Cucumber",
          "Organic Hass Avocado",
          "Bag of Organic Bananas"
         ],
         366
        ],
        [
         [
          "Organic Lemon",
          "Organic Hass Avocado",
          "Bag of Organic Bananas"
         ],
         353
        ],
        [
         [
          "Limes",
          "Organic Avocado",
          "Banana"
         ],
         352
        ],
        [
         [
          "Organic Whole Milk",
          "Organic Strawberries",
          "Bag of Organic Bananas"
         ],
         339
        ],
        [
         [
          "Organic Avocado",
          "Large Lemon",
          "Organic Baby Spinach"
         ],
         334
        ]
       ],
       "datasetInfos": [],
       "dbfsResultPath": null,
       "isJsonSchema": true,
       "metadata": {},
       "overflow": false,
       "plotOptions": {
        "customPlotOptions": {},
        "displayType": "table",
        "pivotAggregation": null,
        "pivotColumns": null,
        "xColumns": null,
        "yColumns": null
       },
       "removedWidgets": [],
       "schema": [
        {
         "metadata": "{}",
         "name": "items",
         "type": "{\"type\":\"array\",\"elementType\":\"string\",\"containsNull\":false}"
        },
        {
         "metadata": "{}",
         "name": "freq",
         "type": "\"long\""
        }
       ],
       "type": "table"
      }
     },
     "output_type": "display_data"
    }
   ],
   "source": [
    "%sql\n",
    "select items, freq from mostPopularItemInABasket where size(items) > 2 order by freq desc limit 20"
   ]
  },
  {
   "cell_type": "markdown",
   "metadata": {
    "application/vnd.databricks.v1+cell": {
     "cellMetadata": {},
     "inputWidgets": {},
     "nuid": "43d32f32-8c15-4442-a3ff-d9f81eaf9082",
     "showTitle": false,
     "title": ""
    }
   },
   "source": [
    "# Review Association Rules\n",
    "\n",
    "In addition to `freqItemSets`, the `FP-growth` model also generates `association rules`.  For example, if a shopper purchases *peanut butter* , what is the likelihood that they will also purchase *jelly*.  For more information, a good reference is Susan Li's [A Gentle Introduction on Market Basket Analysis — Association Rules](https://towardsdatascience.com/a-gentle-introduction-on-market-basket-analysis-association-rules-fa4b986a40ce)"
   ]
  },
  {
   "cell_type": "code",
   "execution_count": null,
   "metadata": {
    "application/vnd.databricks.v1+cell": {
     "cellMetadata": {
      "byteLimit": 2048000,
      "rowLimit": 10000
     },
     "inputWidgets": {},
     "nuid": "8501f2fb-8698-48b7-9e74-7287e689da72",
     "showTitle": true,
     "title": "View Generated Association Rules"
    }
   },
   "outputs": [
    {
     "data": {
      "text/html": [
       "<style scoped>\n",
       "  .ansiout {\n",
       "    display: block;\n",
       "    unicode-bidi: embed;\n",
       "    white-space: pre-wrap;\n",
       "    word-wrap: break-word;\n",
       "    word-break: break-all;\n",
       "    font-family: \"Menlo\", \"Monaco\", \"Consolas\", \"Ubuntu Mono\", \"Source Code Pro\", monospace;\n",
       "    font-size: 13px;\n",
       "    color: #555;\n",
       "    margin-left: 4px;\n",
       "    line-height: 19px;\n",
       "  }\n",
       "</style>\n",
       "<div class=\"ansiout\">ifThen: org.apache.spark.sql.DataFrame = [antecedent: array&lt;string&gt;, consequent: array&lt;string&gt; ... 3 more fields]\n",
       "</div>"
      ]
     },
     "metadata": {
      "application/vnd.databricks.v1+output": {
       "addedWidgets": {},
       "arguments": {},
       "data": "<div class=\"ansiout\">ifThen: org.apache.spark.sql.DataFrame = [antecedent: array&lt;string&gt;, consequent: array&lt;string&gt; ... 3 more fields]\n</div>",
       "datasetInfos": [
        {
         "name": "ifThen",
         "schema": {
          "fields": [
           {
            "metadata": {},
            "name": "antecedent",
            "nullable": false,
            "type": {
             "containsNull": false,
             "elementType": "string",
             "type": "array"
            }
           },
           {
            "metadata": {},
            "name": "consequent",
            "nullable": false,
            "type": {
             "containsNull": false,
             "elementType": "string",
             "type": "array"
            }
           },
           {
            "metadata": {},
            "name": "confidence",
            "nullable": false,
            "type": "double"
           },
           {
            "metadata": {},
            "name": "lift",
            "nullable": true,
            "type": "double"
           },
           {
            "metadata": {},
            "name": "support",
            "nullable": false,
            "type": "double"
           }
          ],
          "type": "struct"
         },
         "tableIdentifier": null,
         "typeStr": "org.apache.spark.sql.DataFrame"
        }
       ],
       "metadata": {
        "isDbfsCommandResult": false
       },
       "removedWidgets": [],
       "type": "html"
      }
     },
     "output_type": "display_data"
    }
   ],
   "source": [
    "%scala\n",
    "// Display generated association rules.\n",
    "val ifThen = model.associationRules\n",
    "ifThen.createOrReplaceTempView(\"ifThen\")"
   ]
  },
  {
   "cell_type": "code",
   "execution_count": null,
   "metadata": {
    "application/vnd.databricks.v1+cell": {
     "cellMetadata": {
      "byteLimit": 2048000,
      "implicitDf": true,
      "rowLimit": 10000
     },
     "inputWidgets": {},
     "nuid": "7935e654-7e14-401f-95e8-cbf4f250435c",
     "showTitle": false,
     "title": ""
    }
   },
   "outputs": [
    {
     "data": {
      "text/html": [
       "<style scoped>\n",
       "  .table-result-container {\n",
       "    max-height: 300px;\n",
       "    overflow: auto;\n",
       "  }\n",
       "  table, th, td {\n",
       "    border: 1px solid black;\n",
       "    border-collapse: collapse;\n",
       "  }\n",
       "  th, td {\n",
       "    padding: 5px;\n",
       "  }\n",
       "  th {\n",
       "    text-align: left;\n",
       "  }\n",
       "</style><div class='table-result-container'><table class='table-result'><thead style='background-color: white'><tr><th>antecedent (if)</th><th>consequent (then)</th><th>confidence</th></tr></thead><tbody><tr><td>List(Organic Raspberries, Organic Hass Avocado, Organic Strawberries)</td><td>List(Bag of Organic Bananas)</td><td>0.5984251968503937</td></tr><tr><td>List(Organic Cucumber, Organic Hass Avocado, Organic Strawberries)</td><td>List(Bag of Organic Bananas)</td><td>0.546875</td></tr><tr><td>List(Organic Kiwi, Organic Hass Avocado)</td><td>List(Bag of Organic Bananas)</td><td>0.5459770114942529</td></tr><tr><td>List(Organic Navel Orange, Organic Raspberries)</td><td>List(Bag of Organic Bananas)</td><td>0.5412186379928315</td></tr><tr><td>List(Yellow Onions, Strawberries)</td><td>List(Banana)</td><td>0.5357142857142857</td></tr><tr><td>List(Organic Whole String Cheese, Organic Hass Avocado)</td><td>List(Bag of Organic Bananas)</td><td>0.5314685314685315</td></tr><tr><td>List(Organic Navel Orange, Organic Hass Avocado)</td><td>List(Bag of Organic Bananas)</td><td>0.5283018867924528</td></tr><tr><td>List(Organic Raspberries, Organic Hass Avocado)</td><td>List(Bag of Organic Bananas)</td><td>0.521099116781158</td></tr><tr><td>List(Organic D'Anjou Pears, Organic Hass Avocado)</td><td>List(Bag of Organic Bananas)</td><td>0.5170454545454546</td></tr><tr><td>List(Organic Unsweetened Almond Milk, Organic Hass Avocado)</td><td>List(Bag of Organic Bananas)</td><td>0.5141065830721003</td></tr><tr><td>List(Organic Broccoli, Organic Hass Avocado)</td><td>List(Bag of Organic Bananas)</td><td>0.5048231511254019</td></tr><tr><td>List(Organic Lemon, Organic Raspberries)</td><td>List(Bag of Organic Bananas)</td><td>0.4989106753812636</td></tr><tr><td>List(Organic Hass Avocado, Organic Baby Spinach, Organic Strawberries)</td><td>List(Bag of Organic Bananas)</td><td>0.49393939393939396</td></tr><tr><td>List(Organic Fuji Apple, Strawberries)</td><td>List(Banana)</td><td>0.4915254237288136</td></tr><tr><td>List(Honeycrisp Apple, Strawberries)</td><td>List(Banana)</td><td>0.4868421052631579</td></tr><tr><td>List(Organic Large Extra Fancy Fuji Apple, Organic Hass Avocado)</td><td>List(Bag of Organic Bananas)</td><td>0.4838709677419355</td></tr><tr><td>List(Organic Gala Apples, Organic Hass Avocado)</td><td>List(Bag of Organic Bananas)</td><td>0.4837905236907731</td></tr><tr><td>List(Organic Navel Orange, Organic Strawberries)</td><td>List(Bag of Organic Bananas)</td><td>0.4821002386634845</td></tr><tr><td>List(Organic Kiwi, Organic Raspberries)</td><td>List(Bag of Organic Bananas)</td><td>0.4792332268370607</td></tr><tr><td>List(Organic Carrot Bunch, Organic Hass Avocado)</td><td>List(Bag of Organic Bananas)</td><td>0.47315436241610737</td></tr></tbody></table></div>"
      ]
     },
     "metadata": {
      "application/vnd.databricks.v1+output": {
       "addedWidgets": {},
       "aggData": [],
       "aggError": "",
       "aggOverflow": false,
       "aggSchema": [],
       "aggSeriesLimitReached": false,
       "aggType": "",
       "arguments": {},
       "columnCustomDisplayInfos": {},
       "data": [
        [
         [
          "Organic Raspberries",
          "Organic Hass Avocado",
          "Organic Strawberries"
         ],
         [
          "Bag of Organic Bananas"
         ],
         0.5984251968503937
        ],
        [
         [
          "Organic Cucumber",
          "Organic Hass Avocado",
          "Organic Strawberries"
         ],
         [
          "Bag of Organic Bananas"
         ],
         0.546875
        ],
        [
         [
          "Organic Kiwi",
          "Organic Hass Avocado"
         ],
         [
          "Bag of Organic Bananas"
         ],
         0.5459770114942529
        ],
        [
         [
          "Organic Navel Orange",
          "Organic Raspberries"
         ],
         [
          "Bag of Organic Bananas"
         ],
         0.5412186379928315
        ],
        [
         [
          "Yellow Onions",
          "Strawberries"
         ],
         [
          "Banana"
         ],
         0.5357142857142857
        ],
        [
         [
          "Organic Whole String Cheese",
          "Organic Hass Avocado"
         ],
         [
          "Bag of Organic Bananas"
         ],
         0.5314685314685315
        ],
        [
         [
          "Organic Navel Orange",
          "Organic Hass Avocado"
         ],
         [
          "Bag of Organic Bananas"
         ],
         0.5283018867924528
        ],
        [
         [
          "Organic Raspberries",
          "Organic Hass Avocado"
         ],
         [
          "Bag of Organic Bananas"
         ],
         0.521099116781158
        ],
        [
         [
          "Organic D'Anjou Pears",
          "Organic Hass Avocado"
         ],
         [
          "Bag of Organic Bananas"
         ],
         0.5170454545454546
        ],
        [
         [
          "Organic Unsweetened Almond Milk",
          "Organic Hass Avocado"
         ],
         [
          "Bag of Organic Bananas"
         ],
         0.5141065830721003
        ],
        [
         [
          "Organic Broccoli",
          "Organic Hass Avocado"
         ],
         [
          "Bag of Organic Bananas"
         ],
         0.5048231511254019
        ],
        [
         [
          "Organic Lemon",
          "Organic Raspberries"
         ],
         [
          "Bag of Organic Bananas"
         ],
         0.4989106753812636
        ],
        [
         [
          "Organic Hass Avocado",
          "Organic Baby Spinach",
          "Organic Strawberries"
         ],
         [
          "Bag of Organic Bananas"
         ],
         0.49393939393939396
        ],
        [
         [
          "Organic Fuji Apple",
          "Strawberries"
         ],
         [
          "Banana"
         ],
         0.4915254237288136
        ],
        [
         [
          "Honeycrisp Apple",
          "Strawberries"
         ],
         [
          "Banana"
         ],
         0.4868421052631579
        ],
        [
         [
          "Organic Large Extra Fancy Fuji Apple",
          "Organic Hass Avocado"
         ],
         [
          "Bag of Organic Bananas"
         ],
         0.4838709677419355
        ],
        [
         [
          "Organic Gala Apples",
          "Organic Hass Avocado"
         ],
         [
          "Bag of Organic Bananas"
         ],
         0.4837905236907731
        ],
        [
         [
          "Organic Navel Orange",
          "Organic Strawberries"
         ],
         [
          "Bag of Organic Bananas"
         ],
         0.4821002386634845
        ],
        [
         [
          "Organic Kiwi",
          "Organic Raspberries"
         ],
         [
          "Bag of Organic Bananas"
         ],
         0.4792332268370607
        ],
        [
         [
          "Organic Carrot Bunch",
          "Organic Hass Avocado"
         ],
         [
          "Bag of Organic Bananas"
         ],
         0.47315436241610737
        ]
       ],
       "datasetInfos": [],
       "dbfsResultPath": null,
       "isJsonSchema": true,
       "metadata": {},
       "overflow": false,
       "plotOptions": {
        "customPlotOptions": {},
        "displayType": "table",
        "pivotAggregation": null,
        "pivotColumns": null,
        "xColumns": null,
        "yColumns": null
       },
       "removedWidgets": [],
       "schema": [
        {
         "metadata": "{}",
         "name": "antecedent (if)",
         "type": "{\"type\":\"array\",\"elementType\":\"string\",\"containsNull\":false}"
        },
        {
         "metadata": "{}",
         "name": "consequent (then)",
         "type": "{\"type\":\"array\",\"elementType\":\"string\",\"containsNull\":false}"
        },
        {
         "metadata": "{}",
         "name": "confidence",
         "type": "\"double\""
        }
       ],
       "type": "table"
      }
     },
     "output_type": "display_data"
    }
   ],
   "source": [
    "%sql\n",
    "select antecedent as `antecedent (if)`, consequent as `consequent (then)`, confidence from ifThen order by confidence desc limit 20"
   ]
  }
 ],
 "metadata": {
  "application/vnd.databricks.v1+notebook": {
   "dashboards": [
    {
     "elements": [
      {
       "dashboardResultIndex": null,
       "elementNUID": "9c811045-ec77-489b-8c39-b81abc37d9bb",
       "elementType": "command",
       "guid": "7a3850ed-7323-44dc-b6a5-7d5ab93d51fa",
       "options": null,
       "position": {
        "height": 15,
        "width": 12,
        "x": 0,
        "y": 7,
        "z": null
       },
       "resultIndex": null
      }
     ],
     "globalVars": {},
     "guid": "",
     "layoutOption": {
      "grid": true,
      "stack": true
     },
     "nuid": "3577a50a-93ac-4bc3-a968-c3394172ff1f",
     "origId": 771319785876657,
     "title": "Pipeline-1",
     "version": "DashboardViewV1",
     "width": 1024
    },
    {
     "elements": [
      {
       "dashboardResultIndex": null,
       "elementNUID": "9c811045-ec77-489b-8c39-b81abc37d9bb",
       "elementType": "command",
       "guid": "0ec816f2-7ff8-4387-8385-631669db1abe",
       "options": null,
       "position": {
        "height": 16,
        "width": 12,
        "x": 0,
        "y": 7,
        "z": null
       },
       "resultIndex": null
      }
     ],
     "globalVars": {},
     "guid": "",
     "layoutOption": {
      "grid": true,
      "stack": true
     },
     "nuid": "bf44e333-5684-4b01-a69f-ed3ccef65af7",
     "origId": 771319785876658,
     "title": "Dashboard 1",
     "version": "DashboardViewV1",
     "width": 1024
    }
   ],
   "language": "python",
   "notebookMetadata": {
    "mostRecentlyExecutedCommandWithImplicitDF": {
     "commandId": 771319785876656,
     "dataframes": [
      "_sqldf"
     ]
    },
    "pythonIndentUnit": 2
   },
   "notebookName": "RS_MarketBasketAnalysis",
   "widgets": {}
  },
  "kernelspec": {
   "display_name": "fiap",
   "language": "python",
   "name": "python3"
  },
  "language_info": {
   "codemirror_mode": {
    "name": "ipython",
    "version": 3
   },
   "file_extension": ".py",
   "mimetype": "text/x-python",
   "name": "python",
   "nbconvert_exporter": "python",
   "pygments_lexer": "ipython3",
   "version": "3.11.5"
  }
 },
 "nbformat": 4,
 "nbformat_minor": 0
}
