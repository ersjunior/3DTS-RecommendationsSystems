{
  "cells": [
    {
      "cell_type": "code",
      "execution_count": 1,
      "metadata": {
        "id": "mJHwXjtxWgZ-"
      },
      "outputs": [],
      "source": [
        "import pandas as pd\n",
        "import numpy as np\n",
        "from sklearn.metrics.pairwise import cosine_similarity\n",
        "from sklearn.preprocessing import StandardScaler"
      ]
    },
    {
      "cell_type": "code",
      "execution_count": 2,
      "metadata": {
        "id": "nKMYUkGfWnYk"
      },
      "outputs": [],
      "source": [
        "# Dados fictícios para 5 produtos\n",
        "data = {\n",
        "    'Product': ['Smartphone1', 'Smartphone2', 'Smartphone3', 'Smartphone4', 'Smartphone5'],\n",
        "    'Brand': ['Samsung', 'Apple', 'OnePlus', 'Samsung', 'Xiaomi'],\n",
        "    'OS': ['Android', 'iOS', 'Android', 'Android', 'Android'],\n",
        "    'RAM': [8, 4, 6, 8, 6],\n",
        "    'Storage': [128, 64, 128, 256, 128],\n",
        "    'Camera': [12, 16, 12, 20, 16],\n",
        "    'Display': [6.2, 5.8, 6.5, 6.1, 6.4],\n",
        "    'Battery': [4000, 3200, 4300, 4000, 4500],\n",
        "    'Price': [1000, 2200, 900, 1100, 800]\n",
        "}\n",
        "\n",
        "df = pd.DataFrame(data)"
      ]
    },
    {
      "cell_type": "code",
      "execution_count": 3,
      "metadata": {
        "colab": {
          "base_uri": "https://localhost:8080/"
        },
        "id": "YksFBiY6XHbE",
        "outputId": "612c1020-52d1-4fb3-a001-43276b36dc50"
      },
      "outputs": [
        {
          "name": "stdout",
          "output_type": "stream",
          "text": [
            "       Product    Brand       OS  RAM  Storage  Camera  Display  Battery  \\\n",
            "0  Smartphone1  Samsung  Android    8      128      12      6.2     4000   \n",
            "1  Smartphone2    Apple      iOS    4       64      16      5.8     3200   \n",
            "2  Smartphone3  OnePlus  Android    6      128      12      6.5     4300   \n",
            "3  Smartphone4  Samsung  Android    8      256      20      6.1     4000   \n",
            "4  Smartphone5   Xiaomi  Android    6      128      16      6.4     4500   \n",
            "\n",
            "   Price  \n",
            "0   1000  \n",
            "1   2200  \n",
            "2    900  \n",
            "3   1100  \n",
            "4    800  \n"
          ]
        }
      ],
      "source": [
        "print(pd.DataFrame(data))"
      ]
    },
    {
      "cell_type": "code",
      "execution_count": 4,
      "metadata": {
        "id": "nR1VF44NW8zd"
      },
      "outputs": [],
      "source": [
        "# Padronizando as features numéricas\n",
        "numerical_features = ['RAM', 'Storage', 'Camera', 'Display', 'Battery', 'Price']\n",
        "scaler = StandardScaler()\n",
        "df[numerical_features] = scaler.fit_transform(df[numerical_features])\n",
        "\n",
        "# Codificar features categóricas\n",
        "df_encoded = pd.get_dummies(df[['Brand', 'OS']])\n",
        "\n",
        "# Combinando features\n",
        "df_final = pd.concat([df_encoded, df[numerical_features]], axis=1)"
      ]
    },
    {
      "cell_type": "code",
      "execution_count": 5,
      "metadata": {
        "colab": {
          "base_uri": "https://localhost:8080/"
        },
        "id": "Hb3FnFv_cLm7",
        "outputId": "d9e140a0-2aee-488a-cb87-f5dddba7ecf6"
      },
      "outputs": [
        {
          "name": "stdout",
          "output_type": "stream",
          "text": [
            "   Brand_Apple  Brand_OnePlus  Brand_Samsung  Brand_Xiaomi  OS_Android  \\\n",
            "0        False          False           True         False        True   \n",
            "1         True          False          False         False       False   \n",
            "2        False           True          False         False        True   \n",
            "3        False          False           True         False        True   \n",
            "4        False          False          False          True        True   \n",
            "\n",
            "   OS_iOS       RAM   Storage    Camera   Display   Battery     Price  \n",
            "0   False  1.069045 -0.204124 -1.069045  0.000000  0.000000 -0.392232  \n",
            "1    True -1.603567 -1.224745  0.267261 -1.632993 -1.807016  1.961161  \n",
            "2   False -0.267261 -0.204124 -1.069045  1.224745  0.677631 -0.588348  \n",
            "3   False  1.069045  1.837117  1.603567 -0.408248  0.000000 -0.196116  \n",
            "4   False -0.267261 -0.204124  0.267261  0.816497  1.129385 -0.784465  \n"
          ]
        }
      ],
      "source": [
        "print(df_final)"
      ]
    },
    {
      "cell_type": "code",
      "execution_count": 6,
      "metadata": {
        "id": "qE2s5ycQXA5x"
      },
      "outputs": [],
      "source": [
        "# Calculate cosine similarity matrix\n",
        "cos_sim = cosine_similarity(df_final)\n",
        "\n",
        "# Define the selected product index (Product 1 in this case)\n",
        "selected_product_index = 0\n",
        "\n",
        "# Get the similarity scores for the selected product\n",
        "similarity_scores = cos_sim[selected_product_index]"
      ]
    },
    {
      "cell_type": "code",
      "execution_count": 7,
      "metadata": {
        "colab": {
          "base_uri": "https://localhost:8080/"
        },
        "id": "1HsSTFNDc89W",
        "outputId": "e14faea8-dea0-4391-85ef-6e67ea466a1e"
      },
      "outputs": [
        {
          "name": "stdout",
          "output_type": "stream",
          "text": [
            "[[ 1.         -0.2982528   0.42658685  0.1751697   0.16875536]\n",
            " [-0.2982528   1.         -0.42355302 -0.26747095 -0.47906696]\n",
            " [ 0.42658685 -0.42355302  1.         -0.2447479   0.59474206]\n",
            " [ 0.1751697  -0.26747095 -0.2447479   1.          0.08862471]\n",
            " [ 0.16875536 -0.47906696  0.59474206  0.08862471  1.        ]]\n"
          ]
        }
      ],
      "source": [
        "print(cos_sim)"
      ]
    },
    {
      "cell_type": "code",
      "execution_count": 8,
      "metadata": {
        "colab": {
          "base_uri": "https://localhost:8080/"
        },
        "id": "lQXkEkSfXg60",
        "outputId": "f88c51de-ae8c-45e3-fec1-22ab87991d00"
      },
      "outputs": [
        {
          "name": "stdout",
          "output_type": "stream",
          "text": [
            "[ 1.         -0.2982528   0.42658685  0.1751697   0.16875536]\n"
          ]
        }
      ],
      "source": [
        "print(similarity_scores)"
      ]
    }
  ],
  "metadata": {
    "colab": {
      "provenance": []
    },
    "kernelspec": {
      "display_name": "Python 3",
      "name": "python3"
    },
    "language_info": {
      "codemirror_mode": {
        "name": "ipython",
        "version": 3
      },
      "file_extension": ".py",
      "mimetype": "text/x-python",
      "name": "python",
      "nbconvert_exporter": "python",
      "pygments_lexer": "ipython3",
      "version": "3.11.5"
    }
  },
  "nbformat": 4,
  "nbformat_minor": 0
}
